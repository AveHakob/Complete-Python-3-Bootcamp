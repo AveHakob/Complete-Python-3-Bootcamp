{
 "cells": [
  {
   "cell_type": "code",
   "execution_count": 44,
   "id": "2c179a48-e148-4065-b53e-d8af4bb7c2e3",
   "metadata": {},
   "outputs": [],
   "source": [
    "import requests\n",
    "import bs4\n",
    "import lxml"
   ]
  },
  {
   "cell_type": "code",
   "execution_count": 45,
   "id": "5dd0cdde-97c1-4594-a1e0-7437b961cf69",
   "metadata": {},
   "outputs": [],
   "source": [
    "proxy = {\"http\": \"91.103.29.150:3629\"}"
   ]
  },
  {
   "cell_type": "code",
   "execution_count": 51,
   "id": "9ed5995e-08e7-4101-acc3-3b317c421224",
   "metadata": {},
   "outputs": [],
   "source": [
    "user_agent = \"Mozilla/5.0 (Windows NT 10.0; Win64; x64) AppleWebKit/537.36 (KHTML, like Gecko) Chrome/58.0.3029.110 Safari/537.3\""
   ]
  },
  {
   "cell_type": "code",
   "execution_count": 52,
   "id": "d40973e4-68db-4161-9d11-574988bf8b2d",
   "metadata": {},
   "outputs": [],
   "source": [
    "login_url = \"https://passport.yandex.com/registration-validations/auth/multi_step/start\""
   ]
  },
  {
   "cell_type": "code",
   "execution_count": 53,
   "id": "cf50d055-0bfd-4ba6-8615-0abccebd96f0",
   "metadata": {},
   "outputs": [],
   "source": [
    "password_url = \"https://passport.yandex.com/registration-validations/auth/multi_step/commit_password\""
   ]
  },
  {
   "cell_type": "code",
   "execution_count": 54,
   "id": "03f90cd0-ac8d-4bd6-b62b-7bb2260984bb",
   "metadata": {},
   "outputs": [],
   "source": [
    "headers = {\"User-Agent\": user_agent}"
   ]
  },
  {
   "cell_type": "code",
   "execution_count": 55,
   "id": "db575a9a-162e-44d6-8a8a-f4b1d39908e4",
   "metadata": {},
   "outputs": [],
   "source": [
    "login = {\"username\": \"avhakob91@mail.ru\"}\n",
    "password = {\"password\": \"y#%5nuAuA#NSMqU\"}\n",
    "\n",
    "r1 = requests.post(login_url, data = login, proxies = proxy, headers=headers)\n",
    "r2 = requests.post(password_url, data = password, proxies = proxy, headers=headers)"
   ]
  },
  {
   "cell_type": "code",
   "execution_count": 56,
   "id": "12b4e46d-e4e3-435d-8a88-77563764314f",
   "metadata": {},
   "outputs": [
    {
     "name": "stdout",
     "output_type": "stream",
     "text": [
      "<!doctype html><html lang=\"en\" data-page-type=\"error\" class=\"is-js_no\"><head><meta charset=\"utf-8\"/><meta http-equiv=\"X-UA-Compatible\" content=\"IE=EmulateIE7,IE=edge\"/><link rel=\"shortcut icon\" href=\"/favicon.ico\"/><title>Page not found</title><!--[if gt IE 8]><!--><link rel=\"stylesheet\" type=\"text/css\" href=\"https://yastatic.net/s3/passport-static/core/v1.75.7/css/error.css\"/><!-- <![endif]--><!--[if lt IE 9]><link rel=\"stylesheet\" type=\"text/css\" href=\"https://yastatic.net/s3/passport-static/core/v1.75.7/css/error.ie.css\"/><![endif]--><script nonce=\"60fed2f7-38ae-4303-9053-23b7fae44d0f\">(function(d, e, c, r, n, w, v, f) {e = d.documentElement; c = \"className\"; r = \"replace\"; n = \"createElementNS\"; f = \"firstChild\"; w = \"http://www.w3.org/2000/svg\"; v = d.createElement(\"div\"); v.innerHTML = \"<svg/>\"; e[c] = e[c][r](\"is-js_no\", \"is-js_yes\"); e[c] += \" is-inlinesvg_\" + ((v[f] && v[f].namespaceURI) === w ? \"yes\" : \"no\"); })(document);window.onerror=function(d,e,f,g,b){var h=new Image,a=[\"app=passport\"],c=\"\";d&&a.push(\"msg=\"+encodeURIComponent(d));e&&a.push(\"url=\"+encodeURIComponent(e));(f||g)&&a.push(\"position=\"+encodeURIComponent(f+\":\"+g));if(b){try{c=JSON.stringify(b,Object.getOwnPropertyNames(b))}catch(k){c=b.stack}a.push(\"error_object=\"+encodeURIComponent(c))}h.src=\"/monitoring/onerror?\"+a.join(\"&\");return!1};</script><script nonce=\"60fed2f7-38ae-4303-9053-23b7fae44d0f\">var uid = null;var login = null;var passportHost = \"passport.yandex.com\";</script><!--[if IE]><script crossorigin=\"anonymous\" src=\"//yastatic.net/jquery/1.9.1/jquery.min.js\"></script><script crossorigin=\"anonymous\" src=\"https://yastatic.net/s3/passport-static/core/v1.75.7/js/error.client.yate.en.js\"></script><script crossorigin=\"anonymous\" src=\"https://yastatic.net/s3/passport-static/core/v1.75.7/js/error.en.js\"></script><![endif]--><!--[if !IE]><!--><script crossorigin=\"anonymous\" src=\"//yastatic.net/jquery/1.9.1/jquery.min.js\"></script><script crossorigin=\"anonymous\" src=\"https://yastatic.net/s3/passport-static/core/v1.75.7/js/error.client.yate.en.js\" defer=\"defer\"></script><script crossorigin=\"anonymous\" src=\"https://yastatic.net/s3/passport-static/core/v1.75.7/js/error.en.js\" defer=\"defer\"></script><!-- <![endif]--></head><body data-uid=\"null\" data-login=\"null\" data-passportHost=\"&quot;passport.yandex.com&quot;\" data-static-url=\"https://yastatic.net/s3/passport-static/core/v1.75.7/\" data-csrf=\"028ee32eb3908cc245da71e71d51c9097e9d1227:1675970278591\" data-metrics-id=\"784657\" data-version=\"1.75.7\" data-user-type=\"null\" data-tld=\"com\" data-locale=\"en\"><div class=\"layout\"><div class=\"layout-inner\"><div class=\"passport-header-header\"><div class=\"passport-header-header_cell passport-header-header_cell__service\"><div class=\"passport-header-header_col\"><span class=\"dheader-logo_container\"><a class=\"passport-header-header_logo passport-header-header_logo__ya_en\" href=\"//yandex.com\"></a><a class=\"dheader-logo_id\" href=\"https://passport.yandex.com/profile\"></a></span></div></div><div class=\"passport-header-header_cell passport-header-header_cell__navigation\"><div class=\"passport-header-header_col\"><div class=\"passport-header-navigation\" data-block=\"header-navigation\"><span class=\"passport-header-navigation-item-wrap\"><a href=\"https://mail.yandex.com\" class=\"passport-header-navigation-item passport-header-navigation-item_mail\">Mail</a></span><span class=\"passport-header-navigation-item-wrap\"><a href=\"https://disk.yandex.com\" class=\"passport-header-navigation-item passport-header-navigation-item_disk\">Disk</a></span><span class=\"passport-header-navigation-item-wrap\"><a href=\"https://yandex.com/all\" class=\"passport-header-navigation-item passport-header-navigation-item_more js-passport-header-navigation_dropdown_trigger\">More</a><div class=\"passport-header-menu passport-header-menu__header passport-header-menu_to_bottom js-passport-header-menu__dropdown\"><div class=\"passport-header-menu_content passport-header-dropdown\"><ul class=\"passport-header-dropdown-menu passport-header-dropdown-menu__available_width\"><li><a href=\"https://yandex.com\" class=\"passport-header-dropdown-menu_item\">Search</a><a href=\"https://yandex.com/images\" class=\"passport-header-dropdown-menu_item\">Images</a><a href=\"https://yandex.com/maps\" class=\"passport-header-dropdown-menu_item\">Maps</a><a href=\"https://browser.yandex.com\" class=\"passport-header-dropdown-menu_item\">Yandex.Browser</a><a href=\"https://translate.yandex.com\" class=\"passport-header-dropdown-menu_item\">Translate</a></li></ul></div></div></span></div></div></div><div class=\"passport-header-header_cell passport-header-header_cell__user\"><div class=\"passport-header-user\" data-block=\"user\" data-options=\"{&quot;isTouch&quot;:false,&quot;hideuser&quot;:false,&quot;theme&quot;:&quot;white&quot;,&quot;env&quot;:&quot;production&quot;,&quot;hideNavigation&quot;:false,&quot;isWhiteLabel&quot;:&quot;&quot;,&quot;isWSUser&quot;:false,&quot;tld&quot;:&quot;com&quot;,&quot;locale&quot;:&quot;en&quot;,&quot;paths&quot;:{&quot;embeddedauth&quot;:&quot;https://passport.yandex.%tld%/passport?mode=embeddedauth&quot;,&quot;accounts&quot;:&quot;//passport.yandex.%tld%/accounts-info&quot;,&quot;host&quot;:&quot;https://passport.yandex.&quot;,&quot;avatarHeader&quot;:&quot;//avatars.mds.yandex.net/get-yapic/%avatarId%/islands-middle&quot;,&quot;avatarDropdown&quot;:&quot;//avatars.mds.yandex.net/get-yapic/%avatarId%/islands-small&quot;}}\"><a href=\"https://passport.yandex.com/passport?mode=passport\" class=\"passport-header-user_display js-passport-header-user_display passport-header-hidden\"><span class=\"passport-header-user_name\"><span class=\"passport-header-user_name_first-letter js-passport-header-user_name_first-letter\"></span><span class=\"js-passport-header-user_name_allbutfirstletter\"></span></span><span class=\"passport-header-user_icon js-passport-header-user_icon\"></span></a><div class=\"passport-header-menu passport-header-menu__user passport-header-menu_to_bottom js-passport-header-user_dropdown\"><div class=\"passport-header-menu_content passport-header-dropdown\"><ul class=\"passport-header-dropdown-menu passport-header-dropdown-menu__multi js-passport-header-accounts\"><li class=\"js-passport-header-add-user passport-header-hidden passport-header-dropdown-menu_user__item\"><a href=\"https://passport.yandex.com/auth?mode=add-user&amp;retpath=%retpath%\" class=\"passport-header-dropdown-menu_item passport-header-dropdown-menu_item__with_icon passport-header-dropdown-menu_item__add js-passport-header-button_add\"><span class=\"passport-header-dropdown-menu_user__avatar\"><img src=\"https://yastatic.net/lego/_/La6qi18Z8LwgnZdsAr1qy1GwCwo.gif\" class=\"passport-header-dropdown-menu_item__icon\"/></span>Add account</a></li><li class=\"passport-header-dropdown-menu__promo js-passport-header-dropdown-menu__promo\"><span class=\"passport-header-dropdown-menu__promo_closer js-passport-header-dropdown-menu__promo_closer\"></span><div class=\"passport-header-dropdown-menu__multi_title\">Add more accounts</div><div>You'll be able to switch between them without entering a password.</div><a href=\"https://passport.yandex.com/auth?mode=add-user&amp;retpath=%retpath%\" class=\"passport-header-button passport-header-button__action js-passport-header-button-promo_add\"><span class=\"passport-header-button_content\">Add</span></a></li></ul><ul class=\"passport-header-dropdown-menu js-passport-header-user_settings\"><li class=\"js-passport-header-user_tune\"><a class=\"passport-header-dropdown-menu_item\" href=\"http://tune.yandex.com\">Configure</a></li><li><a class=\"passport-header-dropdown-menu_item\" href=\"https://passport.yandex.com/passport?mode=passport\">Passport</a></li><li><a class=\"passport-header-dropdown-menu_item js-passport-header-link_logout\" href=\"https://passport.yandex.com/passport?mode=logout&amp;yu=%yu%\">Log out</a></li></ul><div class=\"passport-header-hidden\"><form method=\"post\" class=\"js-passport-header-embeddedauth-form\"><input type=\"hidden\" name=\"action\" value=\"change_default\"/><input type=\"hidden\" name=\"retpath\" class=\"js-passport-header-embeddedauth-form-retpath\"/><input type=\"hidden\" name=\"yu\" class=\"js-passport-header-embeddedauth-form-yu\"/><input type=\"hidden\" name=\"uid\" class=\"js-passport-header-embeddedauth-form-uid\"/></form></div></div></div></div></div></div><div class=\"error\" data-block=\"error\"><div class=\"error-statusCode js-statusCode\">404</div><div class=\"error-description\"><span class=\"error-description-name\">Page not found. </span>You probably made a mistake in the query.<pre class=\"error-logID\">ddab09f5447b:0</pre></div><div class=\"error-button\"><a class=\" nb-button _nb-action-button\" href=\"/passport?mode=passport\"><span class=\"_nb-button-content\">Take me back to the main page</span></a></div><div class=\"error-stack g-hidden js-stack\"><b>Send to developer:</b><p>Thu Feb 09 2023 22:17:58 GMT+0300 (Moscow Standard Time) - ddab09f5447b:0 - notfound - production</p></div></div></div><div class=\"footer\" data-block=\"footer\"><div class=\"footer-inner\"><div class=\"footer-copyright\">© 2023, <a class=\"footer-link\" href=\"https://yandex.com\">Yandex</a></div><div class=\"footer-help\"><a href=\"https://yandex.com/support/passport/\" target=\"_blank\" class=\"footer-link\">Help and support</a></div></div></div></div><noscript><div><img src=\"//mc.yandex.ru/watch/784657\" style=\"position:absolute; left:-9999px;\" alt=\"\"/></div></noscript></body></html>\n"
     ]
    }
   ],
   "source": [
    "r = requests.get(password_url)\n",
    "print(r.text)"
   ]
  },
  {
   "cell_type": "code",
   "execution_count": 58,
   "id": "3ce0d8bb-8f94-4b38-b716-217529438525",
   "metadata": {},
   "outputs": [],
   "source": [
    "soup = bs4.BeautifulSoup(r.text, \"lxml\")"
   ]
  },
  {
   "cell_type": "code",
   "execution_count": 59,
   "id": "89f6da63-efda-49c9-84b4-ee46ce55b710",
   "metadata": {},
   "outputs": [
    {
     "data": {
      "text/plain": [
       "<!DOCTYPE html>\n",
       "<html class=\"is-js_no\" data-page-type=\"error\" lang=\"en\"><head><meta charset=\"utf-8\"/><meta content=\"IE=EmulateIE7,IE=edge\" http-equiv=\"X-UA-Compatible\"/><link href=\"/favicon.ico\" rel=\"shortcut icon\"/><title>Page not found</title><!--[if gt IE 8]><!--><link href=\"https://yastatic.net/s3/passport-static/core/v1.75.7/css/error.css\" rel=\"stylesheet\" type=\"text/css\"/><!-- <![endif]--><!--[if lt IE 9]><link rel=\"stylesheet\" type=\"text/css\" href=\"https://yastatic.net/s3/passport-static/core/v1.75.7/css/error.ie.css\"/><![endif]--><script nonce=\"60fed2f7-38ae-4303-9053-23b7fae44d0f\">(function(d, e, c, r, n, w, v, f) {e = d.documentElement; c = \"className\"; r = \"replace\"; n = \"createElementNS\"; f = \"firstChild\"; w = \"http://www.w3.org/2000/svg\"; v = d.createElement(\"div\"); v.innerHTML = \"<svg/>\"; e[c] = e[c][r](\"is-js_no\", \"is-js_yes\"); e[c] += \" is-inlinesvg_\" + ((v[f] && v[f].namespaceURI) === w ? \"yes\" : \"no\"); })(document);window.onerror=function(d,e,f,g,b){var h=new Image,a=[\"app=passport\"],c=\"\";d&&a.push(\"msg=\"+encodeURIComponent(d));e&&a.push(\"url=\"+encodeURIComponent(e));(f||g)&&a.push(\"position=\"+encodeURIComponent(f+\":\"+g));if(b){try{c=JSON.stringify(b,Object.getOwnPropertyNames(b))}catch(k){c=b.stack}a.push(\"error_object=\"+encodeURIComponent(c))}h.src=\"/monitoring/onerror?\"+a.join(\"&\");return!1};</script><script nonce=\"60fed2f7-38ae-4303-9053-23b7fae44d0f\">var uid = null;var login = null;var passportHost = \"passport.yandex.com\";</script><!--[if IE]><script crossorigin=\"anonymous\" src=\"//yastatic.net/jquery/1.9.1/jquery.min.js\"></script><script crossorigin=\"anonymous\" src=\"https://yastatic.net/s3/passport-static/core/v1.75.7/js/error.client.yate.en.js\"></script><script crossorigin=\"anonymous\" src=\"https://yastatic.net/s3/passport-static/core/v1.75.7/js/error.en.js\"></script><![endif]--><!--[if !IE]><!--><script crossorigin=\"anonymous\" src=\"//yastatic.net/jquery/1.9.1/jquery.min.js\"></script><script crossorigin=\"anonymous\" defer=\"defer\" src=\"https://yastatic.net/s3/passport-static/core/v1.75.7/js/error.client.yate.en.js\"></script><script crossorigin=\"anonymous\" defer=\"defer\" src=\"https://yastatic.net/s3/passport-static/core/v1.75.7/js/error.en.js\"></script><!-- <![endif]--></head><body data-csrf=\"028ee32eb3908cc245da71e71d51c9097e9d1227:1675970278591\" data-locale=\"en\" data-login=\"null\" data-metrics-id=\"784657\" data-passporthost='\"passport.yandex.com\"' data-static-url=\"https://yastatic.net/s3/passport-static/core/v1.75.7/\" data-tld=\"com\" data-uid=\"null\" data-user-type=\"null\" data-version=\"1.75.7\"><div class=\"layout\"><div class=\"layout-inner\"><div class=\"passport-header-header\"><div class=\"passport-header-header_cell passport-header-header_cell__service\"><div class=\"passport-header-header_col\"><span class=\"dheader-logo_container\"><a class=\"passport-header-header_logo passport-header-header_logo__ya_en\" href=\"//yandex.com\"></a><a class=\"dheader-logo_id\" href=\"https://passport.yandex.com/profile\"></a></span></div></div><div class=\"passport-header-header_cell passport-header-header_cell__navigation\"><div class=\"passport-header-header_col\"><div class=\"passport-header-navigation\" data-block=\"header-navigation\"><span class=\"passport-header-navigation-item-wrap\"><a class=\"passport-header-navigation-item passport-header-navigation-item_mail\" href=\"https://mail.yandex.com\">Mail</a></span><span class=\"passport-header-navigation-item-wrap\"><a class=\"passport-header-navigation-item passport-header-navigation-item_disk\" href=\"https://disk.yandex.com\">Disk</a></span><span class=\"passport-header-navigation-item-wrap\"><a class=\"passport-header-navigation-item passport-header-navigation-item_more js-passport-header-navigation_dropdown_trigger\" href=\"https://yandex.com/all\">More</a><div class=\"passport-header-menu passport-header-menu__header passport-header-menu_to_bottom js-passport-header-menu__dropdown\"><div class=\"passport-header-menu_content passport-header-dropdown\"><ul class=\"passport-header-dropdown-menu passport-header-dropdown-menu__available_width\"><li><a class=\"passport-header-dropdown-menu_item\" href=\"https://yandex.com\">Search</a><a class=\"passport-header-dropdown-menu_item\" href=\"https://yandex.com/images\">Images</a><a class=\"passport-header-dropdown-menu_item\" href=\"https://yandex.com/maps\">Maps</a><a class=\"passport-header-dropdown-menu_item\" href=\"https://browser.yandex.com\">Yandex.Browser</a><a class=\"passport-header-dropdown-menu_item\" href=\"https://translate.yandex.com\">Translate</a></li></ul></div></div></span></div></div></div><div class=\"passport-header-header_cell passport-header-header_cell__user\"><div class=\"passport-header-user\" data-block=\"user\" data-options='{\"isTouch\":false,\"hideuser\":false,\"theme\":\"white\",\"env\":\"production\",\"hideNavigation\":false,\"isWhiteLabel\":\"\",\"isWSUser\":false,\"tld\":\"com\",\"locale\":\"en\",\"paths\":{\"embeddedauth\":\"https://passport.yandex.%tld%/passport?mode=embeddedauth\",\"accounts\":\"//passport.yandex.%tld%/accounts-info\",\"host\":\"https://passport.yandex.\",\"avatarHeader\":\"//avatars.mds.yandex.net/get-yapic/%avatarId%/islands-middle\",\"avatarDropdown\":\"//avatars.mds.yandex.net/get-yapic/%avatarId%/islands-small\"}}'><a class=\"passport-header-user_display js-passport-header-user_display passport-header-hidden\" href=\"https://passport.yandex.com/passport?mode=passport\"><span class=\"passport-header-user_name\"><span class=\"passport-header-user_name_first-letter js-passport-header-user_name_first-letter\"></span><span class=\"js-passport-header-user_name_allbutfirstletter\"></span></span><span class=\"passport-header-user_icon js-passport-header-user_icon\"></span></a><div class=\"passport-header-menu passport-header-menu__user passport-header-menu_to_bottom js-passport-header-user_dropdown\"><div class=\"passport-header-menu_content passport-header-dropdown\"><ul class=\"passport-header-dropdown-menu passport-header-dropdown-menu__multi js-passport-header-accounts\"><li class=\"js-passport-header-add-user passport-header-hidden passport-header-dropdown-menu_user__item\"><a class=\"passport-header-dropdown-menu_item passport-header-dropdown-menu_item__with_icon passport-header-dropdown-menu_item__add js-passport-header-button_add\" href=\"https://passport.yandex.com/auth?mode=add-user&amp;retpath=%retpath%\"><span class=\"passport-header-dropdown-menu_user__avatar\"><img class=\"passport-header-dropdown-menu_item__icon\" src=\"https://yastatic.net/lego/_/La6qi18Z8LwgnZdsAr1qy1GwCwo.gif\"/></span>Add account</a></li><li class=\"passport-header-dropdown-menu__promo js-passport-header-dropdown-menu__promo\"><span class=\"passport-header-dropdown-menu__promo_closer js-passport-header-dropdown-menu__promo_closer\"></span><div class=\"passport-header-dropdown-menu__multi_title\">Add more accounts</div><div>You'll be able to switch between them without entering a password.</div><a class=\"passport-header-button passport-header-button__action js-passport-header-button-promo_add\" href=\"https://passport.yandex.com/auth?mode=add-user&amp;retpath=%retpath%\"><span class=\"passport-header-button_content\">Add</span></a></li></ul><ul class=\"passport-header-dropdown-menu js-passport-header-user_settings\"><li class=\"js-passport-header-user_tune\"><a class=\"passport-header-dropdown-menu_item\" href=\"http://tune.yandex.com\">Configure</a></li><li><a class=\"passport-header-dropdown-menu_item\" href=\"https://passport.yandex.com/passport?mode=passport\">Passport</a></li><li><a class=\"passport-header-dropdown-menu_item js-passport-header-link_logout\" href=\"https://passport.yandex.com/passport?mode=logout&amp;yu=%yu%\">Log out</a></li></ul><div class=\"passport-header-hidden\"><form class=\"js-passport-header-embeddedauth-form\" method=\"post\"><input name=\"action\" type=\"hidden\" value=\"change_default\"/><input class=\"js-passport-header-embeddedauth-form-retpath\" name=\"retpath\" type=\"hidden\"/><input class=\"js-passport-header-embeddedauth-form-yu\" name=\"yu\" type=\"hidden\"/><input class=\"js-passport-header-embeddedauth-form-uid\" name=\"uid\" type=\"hidden\"/></form></div></div></div></div></div></div><div class=\"error\" data-block=\"error\"><div class=\"error-statusCode js-statusCode\">404</div><div class=\"error-description\"><span class=\"error-description-name\">Page not found. </span>You probably made a mistake in the query.<pre class=\"error-logID\">ddab09f5447b:0</pre></div><div class=\"error-button\"><a class=\"nb-button _nb-action-button\" href=\"/passport?mode=passport\"><span class=\"_nb-button-content\">Take me back to the main page</span></a></div><div class=\"error-stack g-hidden js-stack\"><b>Send to developer:</b><p>Thu Feb 09 2023 22:17:58 GMT+0300 (Moscow Standard Time) - ddab09f5447b:0 - notfound - production</p></div></div></div><div class=\"footer\" data-block=\"footer\"><div class=\"footer-inner\"><div class=\"footer-copyright\">© 2023, <a class=\"footer-link\" href=\"https://yandex.com\">Yandex</a></div><div class=\"footer-help\"><a class=\"footer-link\" href=\"https://yandex.com/support/passport/\" target=\"_blank\">Help and support</a></div></div></div></div><noscript><div><img alt=\"\" src=\"//mc.yandex.ru/watch/784657\" style=\"position:absolute; left:-9999px;\"/></div></noscript></body></html>"
      ]
     },
     "execution_count": 59,
     "metadata": {},
     "output_type": "execute_result"
    }
   ],
   "source": [
    "soup"
   ]
  },
  {
   "cell_type": "code",
   "execution_count": 64,
   "id": "1a9eca8e-95d1-4e52-8fe7-0d10dd2cb1d6",
   "metadata": {},
   "outputs": [],
   "source": [
    "sa = soup.select(\"button\")"
   ]
  },
  {
   "cell_type": "code",
   "execution_count": 65,
   "id": "59b62ad1-d367-437c-81b7-c981e1c102c3",
   "metadata": {},
   "outputs": [
    {
     "data": {
      "text/plain": [
       "[]"
      ]
     },
     "execution_count": 65,
     "metadata": {},
     "output_type": "execute_result"
    }
   ],
   "source": [
    "sa"
   ]
  },
  {
   "cell_type": "code",
   "execution_count": null,
   "id": "e91a923b-e746-41df-9e13-54f1be905d02",
   "metadata": {},
   "outputs": [],
   "source": []
  }
 ],
 "metadata": {
  "kernelspec": {
   "display_name": "Python 3 (ipykernel)",
   "language": "python",
   "name": "python3"
  },
  "language_info": {
   "codemirror_mode": {
    "name": "ipython",
    "version": 3
   },
   "file_extension": ".py",
   "mimetype": "text/x-python",
   "name": "python",
   "nbconvert_exporter": "python",
   "pygments_lexer": "ipython3",
   "version": "3.11.0"
  }
 },
 "nbformat": 4,
 "nbformat_minor": 5
}
