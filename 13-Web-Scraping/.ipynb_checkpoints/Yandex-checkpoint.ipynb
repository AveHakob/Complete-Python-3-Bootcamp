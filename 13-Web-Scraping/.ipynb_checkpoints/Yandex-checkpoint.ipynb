{
 "cells": [
  {
   "cell_type": "code",
   "execution_count": 19,
   "id": "2c179a48-e148-4065-b53e-d8af4bb7c2e3",
   "metadata": {},
   "outputs": [],
   "source": [
    "import requests\n",
    "import bs4\n",
    "import lxml"
   ]
  },
  {
   "cell_type": "code",
   "execution_count": 39,
   "id": "5dd0cdde-97c1-4594-a1e0-7437b961cf69",
   "metadata": {},
   "outputs": [],
   "source": [
    "proxy = {\"http\": \"91.103.29.150:3629\"}"
   ]
  },
  {
   "cell_type": "code",
   "execution_count": null,
   "id": "9ed5995e-08e7-4101-acc3-3b317c421224",
   "metadata": {},
   "outputs": [],
   "source": [
    "user_agent = [\"Mozilla/5.0 (Windows NT 10.0; Win64; x64) AppleWebKit/537.36 (KHTML, like Gecko) Chrome/58.0.3029.110 Safari/537.3\"]"
   ]
  },
  {
   "cell_type": "code",
   "execution_count": 40,
   "id": "d40973e4-68db-4161-9d11-574988bf8b2d",
   "metadata": {},
   "outputs": [],
   "source": [
    "login_url = \"https://passport.yandex.com/registration-validations/auth/multi_step/start\""
   ]
  },
  {
   "cell_type": "code",
   "execution_count": 41,
   "id": "cf50d055-0bfd-4ba6-8615-0abccebd96f0",
   "metadata": {},
   "outputs": [],
   "source": [
    "password_url = \"https://passport.yandex.com/registration-validations/auth/multi_step/commit_password\""
   ]
  },
  {
   "cell_type": "code",
   "execution_count": null,
   "id": "03f90cd0-ac8d-4bd6-b62b-7bb2260984bb",
   "metadata": {},
   "outputs": [],
   "source": [
    "headers = {\"User-Agent\": user_agent}"
   ]
  },
  {
   "cell_type": "code",
   "execution_count": 42,
   "id": "db575a9a-162e-44d6-8a8a-f4b1d39908e4",
   "metadata": {},
   "outputs": [],
   "source": [
    "login = {\"username\": \"avhakob91@mail.ru\"}\n",
    "password = {\"password\": \"y#%5nuAuA#NSMqU\"}\n",
    "\n",
    "r1 = requests.post(login_url, data = login, proxies = proxy, headers=headers)\n",
    "r2 = requests.post(password_url, data = password, proxies = proxy, headers=headers)"
   ]
  },
  {
   "cell_type": "code",
   "execution_count": 43,
   "id": "12b4e46d-e4e3-435d-8a88-77563764314f",
   "metadata": {},
   "outputs": [
    {
     "name": "stdout",
     "output_type": "stream",
     "text": [
      "<!doctype html><html lang=\"en\" data-page-type=\"error\" class=\"is-js_no\"><head><meta charset=\"utf-8\"/><meta http-equiv=\"X-UA-Compatible\" content=\"IE=EmulateIE7,IE=edge\"/><link rel=\"shortcut icon\" href=\"/favicon.ico\"/><title>Page not found</title><!--[if gt IE 8]><!--><link rel=\"stylesheet\" type=\"text/css\" href=\"https://yastatic.net/s3/passport-static/core/v1.75.7/css/error.css\"/><!-- <![endif]--><!--[if lt IE 9]><link rel=\"stylesheet\" type=\"text/css\" href=\"https://yastatic.net/s3/passport-static/core/v1.75.7/css/error.ie.css\"/><![endif]--><script nonce=\"2e8cc8f0-f7f0-49d5-9370-745095690d7e\">(function(d, e, c, r, n, w, v, f) {e = d.documentElement; c = \"className\"; r = \"replace\"; n = \"createElementNS\"; f = \"firstChild\"; w = \"http://www.w3.org/2000/svg\"; v = d.createElement(\"div\"); v.innerHTML = \"<svg/>\"; e[c] = e[c][r](\"is-js_no\", \"is-js_yes\"); e[c] += \" is-inlinesvg_\" + ((v[f] && v[f].namespaceURI) === w ? \"yes\" : \"no\"); })(document);window.onerror=function(d,e,f,g,b){var h=new Image,a=[\"app=passport\"],c=\"\";d&&a.push(\"msg=\"+encodeURIComponent(d));e&&a.push(\"url=\"+encodeURIComponent(e));(f||g)&&a.push(\"position=\"+encodeURIComponent(f+\":\"+g));if(b){try{c=JSON.stringify(b,Object.getOwnPropertyNames(b))}catch(k){c=b.stack}a.push(\"error_object=\"+encodeURIComponent(c))}h.src=\"/monitoring/onerror?\"+a.join(\"&\");return!1};</script><script nonce=\"2e8cc8f0-f7f0-49d5-9370-745095690d7e\">var uid = null;var login = null;var passportHost = \"passport.yandex.com\";</script><!--[if IE]><script crossorigin=\"anonymous\" src=\"//yastatic.net/jquery/1.9.1/jquery.min.js\"></script><script crossorigin=\"anonymous\" src=\"https://yastatic.net/s3/passport-static/core/v1.75.7/js/error.client.yate.en.js\"></script><script crossorigin=\"anonymous\" src=\"https://yastatic.net/s3/passport-static/core/v1.75.7/js/error.en.js\"></script><![endif]--><!--[if !IE]><!--><script crossorigin=\"anonymous\" src=\"//yastatic.net/jquery/1.9.1/jquery.min.js\"></script><script crossorigin=\"anonymous\" src=\"https://yastatic.net/s3/passport-static/core/v1.75.7/js/error.client.yate.en.js\" defer=\"defer\"></script><script crossorigin=\"anonymous\" src=\"https://yastatic.net/s3/passport-static/core/v1.75.7/js/error.en.js\" defer=\"defer\"></script><!-- <![endif]--></head><body data-uid=\"null\" data-login=\"null\" data-passportHost=\"&quot;passport.yandex.com&quot;\" data-static-url=\"https://yastatic.net/s3/passport-static/core/v1.75.7/\" data-csrf=\"a5d942d662fe15ac94e2f4a0d808314e88783e54:1675969856184\" data-metrics-id=\"784657\" data-version=\"1.75.7\" data-user-type=\"null\" data-tld=\"com\" data-locale=\"en\"><div class=\"layout\"><div class=\"layout-inner\"><div class=\"passport-header-header\"><div class=\"passport-header-header_cell passport-header-header_cell__service\"><div class=\"passport-header-header_col\"><span class=\"dheader-logo_container\"><a class=\"passport-header-header_logo passport-header-header_logo__ya_en\" href=\"//yandex.com\"></a><a class=\"dheader-logo_id\" href=\"https://passport.yandex.com/profile\"></a></span></div></div><div class=\"passport-header-header_cell passport-header-header_cell__navigation\"><div class=\"passport-header-header_col\"><div class=\"passport-header-navigation\" data-block=\"header-navigation\"><span class=\"passport-header-navigation-item-wrap\"><a href=\"https://mail.yandex.com\" class=\"passport-header-navigation-item passport-header-navigation-item_mail\">Mail</a></span><span class=\"passport-header-navigation-item-wrap\"><a href=\"https://disk.yandex.com\" class=\"passport-header-navigation-item passport-header-navigation-item_disk\">Disk</a></span><span class=\"passport-header-navigation-item-wrap\"><a href=\"https://yandex.com/all\" class=\"passport-header-navigation-item passport-header-navigation-item_more js-passport-header-navigation_dropdown_trigger\">More</a><div class=\"passport-header-menu passport-header-menu__header passport-header-menu_to_bottom js-passport-header-menu__dropdown\"><div class=\"passport-header-menu_content passport-header-dropdown\"><ul class=\"passport-header-dropdown-menu passport-header-dropdown-menu__available_width\"><li><a href=\"https://yandex.com\" class=\"passport-header-dropdown-menu_item\">Search</a><a href=\"https://yandex.com/images\" class=\"passport-header-dropdown-menu_item\">Images</a><a href=\"https://yandex.com/maps\" class=\"passport-header-dropdown-menu_item\">Maps</a><a href=\"https://browser.yandex.com\" class=\"passport-header-dropdown-menu_item\">Yandex.Browser</a><a href=\"https://translate.yandex.com\" class=\"passport-header-dropdown-menu_item\">Translate</a></li></ul></div></div></span></div></div></div><div class=\"passport-header-header_cell passport-header-header_cell__user\"><div class=\"passport-header-user\" data-block=\"user\" data-options=\"{&quot;isTouch&quot;:false,&quot;hideuser&quot;:false,&quot;theme&quot;:&quot;white&quot;,&quot;env&quot;:&quot;production&quot;,&quot;hideNavigation&quot;:false,&quot;isWhiteLabel&quot;:&quot;&quot;,&quot;isWSUser&quot;:false,&quot;tld&quot;:&quot;com&quot;,&quot;locale&quot;:&quot;en&quot;,&quot;paths&quot;:{&quot;embeddedauth&quot;:&quot;https://passport.yandex.%tld%/passport?mode=embeddedauth&quot;,&quot;accounts&quot;:&quot;//passport.yandex.%tld%/accounts-info&quot;,&quot;host&quot;:&quot;https://passport.yandex.&quot;,&quot;avatarHeader&quot;:&quot;//avatars.mds.yandex.net/get-yapic/%avatarId%/islands-middle&quot;,&quot;avatarDropdown&quot;:&quot;//avatars.mds.yandex.net/get-yapic/%avatarId%/islands-small&quot;}}\"><a href=\"https://passport.yandex.com/passport?mode=passport\" class=\"passport-header-user_display js-passport-header-user_display passport-header-hidden\"><span class=\"passport-header-user_name\"><span class=\"passport-header-user_name_first-letter js-passport-header-user_name_first-letter\"></span><span class=\"js-passport-header-user_name_allbutfirstletter\"></span></span><span class=\"passport-header-user_icon js-passport-header-user_icon\"></span></a><div class=\"passport-header-menu passport-header-menu__user passport-header-menu_to_bottom js-passport-header-user_dropdown\"><div class=\"passport-header-menu_content passport-header-dropdown\"><ul class=\"passport-header-dropdown-menu passport-header-dropdown-menu__multi js-passport-header-accounts\"><li class=\"js-passport-header-add-user passport-header-hidden passport-header-dropdown-menu_user__item\"><a href=\"https://passport.yandex.com/auth?mode=add-user&amp;retpath=%retpath%\" class=\"passport-header-dropdown-menu_item passport-header-dropdown-menu_item__with_icon passport-header-dropdown-menu_item__add js-passport-header-button_add\"><span class=\"passport-header-dropdown-menu_user__avatar\"><img src=\"https://yastatic.net/lego/_/La6qi18Z8LwgnZdsAr1qy1GwCwo.gif\" class=\"passport-header-dropdown-menu_item__icon\"/></span>Add account</a></li><li class=\"passport-header-dropdown-menu__promo js-passport-header-dropdown-menu__promo\"><span class=\"passport-header-dropdown-menu__promo_closer js-passport-header-dropdown-menu__promo_closer\"></span><div class=\"passport-header-dropdown-menu__multi_title\">Add more accounts</div><div>You'll be able to switch between them without entering a password.</div><a href=\"https://passport.yandex.com/auth?mode=add-user&amp;retpath=%retpath%\" class=\"passport-header-button passport-header-button__action js-passport-header-button-promo_add\"><span class=\"passport-header-button_content\">Add</span></a></li></ul><ul class=\"passport-header-dropdown-menu js-passport-header-user_settings\"><li class=\"js-passport-header-user_tune\"><a class=\"passport-header-dropdown-menu_item\" href=\"http://tune.yandex.com\">Configure</a></li><li><a class=\"passport-header-dropdown-menu_item\" href=\"https://passport.yandex.com/passport?mode=passport\">Passport</a></li><li><a class=\"passport-header-dropdown-menu_item js-passport-header-link_logout\" href=\"https://passport.yandex.com/passport?mode=logout&amp;yu=%yu%\">Log out</a></li></ul><div class=\"passport-header-hidden\"><form method=\"post\" class=\"js-passport-header-embeddedauth-form\"><input type=\"hidden\" name=\"action\" value=\"change_default\"/><input type=\"hidden\" name=\"retpath\" class=\"js-passport-header-embeddedauth-form-retpath\"/><input type=\"hidden\" name=\"yu\" class=\"js-passport-header-embeddedauth-form-yu\"/><input type=\"hidden\" name=\"uid\" class=\"js-passport-header-embeddedauth-form-uid\"/></form></div></div></div></div></div></div><div class=\"error\" data-block=\"error\"><div class=\"error-statusCode js-statusCode\">404</div><div class=\"error-description\"><span class=\"error-description-name\">Page not found. </span>You probably made a mistake in the query.<pre class=\"error-logID\">f9011a3adf5b:0</pre></div><div class=\"error-button\"><a class=\" nb-button _nb-action-button\" href=\"/passport?mode=passport\"><span class=\"_nb-button-content\">Take me back to the main page</span></a></div><div class=\"error-stack g-hidden js-stack\"><b>Send to developer:</b><p>Thu Feb 09 2023 22:10:56 GMT+0300 (Moscow Standard Time) - f9011a3adf5b:0 - notfound - production</p></div></div></div><div class=\"footer\" data-block=\"footer\"><div class=\"footer-inner\"><div class=\"footer-copyright\">© 2023, <a class=\"footer-link\" href=\"https://yandex.com\">Yandex</a></div><div class=\"footer-help\"><a href=\"https://yandex.com/support/passport/\" target=\"_blank\" class=\"footer-link\">Help and support</a></div></div></div></div><noscript><div><img src=\"//mc.yandex.ru/watch/784657\" style=\"position:absolute; left:-9999px;\" alt=\"\"/></div></noscript></body></html>\n"
     ]
    }
   ],
   "source": [
    "r = requests.get(password_url)\n",
    "print(r.text)"
   ]
  },
  {
   "cell_type": "code",
   "execution_count": null,
   "id": "3ce0d8bb-8f94-4b38-b716-217529438525",
   "metadata": {},
   "outputs": [],
   "source": []
  },
  {
   "cell_type": "code",
   "execution_count": null,
   "id": "89f6da63-efda-49c9-84b4-ee46ce55b710",
   "metadata": {},
   "outputs": [],
   "source": []
  }
 ],
 "metadata": {
  "kernelspec": {
   "display_name": "Python 3 (ipykernel)",
   "language": "python",
   "name": "python3"
  },
  "language_info": {
   "codemirror_mode": {
    "name": "ipython",
    "version": 3
   },
   "file_extension": ".py",
   "mimetype": "text/x-python",
   "name": "python",
   "nbconvert_exporter": "python",
   "pygments_lexer": "ipython3",
   "version": "3.11.0"
  }
 },
 "nbformat": 4,
 "nbformat_minor": 5
}
